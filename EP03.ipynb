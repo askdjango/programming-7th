{
 "cells": [
  {
   "cell_type": "code",
   "execution_count": 4,
   "metadata": {},
   "outputs": [
    {
     "name": "stdout",
     "output_type": "stream",
     "text": [
      "<_sre.SRE_Match object; span=(0, 11), match='01012341234'>\n",
      "None\n",
      "None\n"
     ]
    }
   ],
   "source": [
    "import re\n",
    "\n",
    "PHONE_PATTERN = r'^01[016789][1-9]\\d{7}$'\n",
    "\n",
    "print(re.match(PHONE_PATTERN, '01012341234'))\n",
    "print(re.match(PHONE_PATTERN, '0101234123412341234'))\n",
    "print(re.match(PHONE_PATTERN, '010a2341234'))"
   ]
  },
  {
   "cell_type": "code",
   "execution_count": 5,
   "metadata": {
    "collapsed": true
   },
   "outputs": [],
   "source": [
    "# 주민등록번호 : 900101???????\n",
    "\n",
    "def verify(number):\n",
    "    # if 남자라면?\n",
    "    # elif 여자라면?\n",
    "    # 주민번호 오류\n"
   ]
  },
  {
   "cell_type": "code",
   "execution_count": null,
   "metadata": {
    "collapsed": true
   },
   "outputs": [],
   "source": [
    "verify('9001011234567')  # 남자입니다.\n",
    "verify('90010112345')  # 주민번호 형식에 맞지 않습니다."
   ]
  },
  {
   "cell_type": "code",
   "execution_count": null,
   "metadata": {
    "collapsed": true
   },
   "outputs": [],
   "source": []
  }
 ],
 "metadata": {
  "kernelspec": {
   "display_name": "Python 3",
   "language": "python",
   "name": "python3"
  },
  "language_info": {
   "codemirror_mode": {
    "name": "ipython",
    "version": 3
   },
   "file_extension": ".py",
   "mimetype": "text/x-python",
   "name": "python",
   "nbconvert_exporter": "python",
   "pygments_lexer": "ipython3",
   "version": "3.6.1"
  }
 },
 "nbformat": 4,
 "nbformat_minor": 2
}
